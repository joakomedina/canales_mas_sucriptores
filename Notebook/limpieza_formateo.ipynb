{
 "cells": [
  {
   "cell_type": "code",
   "execution_count": 1,
   "metadata": {},
   "outputs": [],
   "source": [
    "import pandas as pd"
   ]
  },
  {
   "cell_type": "code",
   "execution_count": null,
   "metadata": {},
   "outputs": [],
   "source": []
  },
  {
   "attachments": {},
   "cell_type": "markdown",
   "metadata": {},
   "source": [
    "## Inicio proceso\n",
    "Importar datos y crear dataframe\n",
    "1. Exploración del dataframe\n",
    "* cabecera\n",
    "* información del dataframe, como número de filas y columnas, tipo de datos, entre otros\n",
    "* obtener estadísticas básicas sobre las columnas númericas del dataframe\n",
    "\n",
    "### Pasos a seguir:\n",
    "\n",
    "2. Limpieza y transformación de datos, si es necesario. Esto puede incluir eliminar filas o columnas innecesarias, cambiar el tipo de datos de las columnas, llenar o eliminar valores faltantes, y más.\n",
    "3. Realizar operaciones de análisis de datos en el DataFrame del tipo:\n",
    "* Ordenar los canales por número de suscriptores de mayor a menor.\n",
    "* Encontrar el promedio, la mediana y la desviación estándar del número de suscriptores de los canales.\n",
    "* Filtrar los canales que tienen más de cierto número de suscriptores.\n",
    "* Agrupar los canales por país o categoría y encontrar el número promedio de suscriptores por grupo.\n",
    "* Encontrar los canales que tienen un crecimiento de suscriptores más rápido en un período de tiempo específico.\n"
   ]
  },
  {
   "cell_type": "code",
   "execution_count": 2,
   "metadata": {},
   "outputs": [],
   "source": [
    "# importar datos a través de archivo csv\n",
    "dfCanales = pd.read_csv('C:\\\\Users\\\\Joako\\\\Desktop\\\\canales_youtube_suscriptores\\\\Datos_original\\\\most_subscribed_youtube_channels.csv')"
   ]
  },
  {
   "cell_type": "code",
   "execution_count": null,
   "metadata": {},
   "outputs": [],
   "source": [
    "# muestra las primeras filas del DataFrame\n",
    "dfCanales.head() "
   ]
  },
  {
   "cell_type": "code",
   "execution_count": null,
   "metadata": {},
   "outputs": [],
   "source": [
    "# muestra información sobre el DataFrame, como número de filas y columnas, tipo de datos, entre otros\n",
    "dfCanales.info()"
   ]
  },
  {
   "cell_type": "code",
   "execution_count": null,
   "metadata": {},
   "outputs": [],
   "source": [
    "# muestra estadísticas básicas sobre las columnas numéricas del DataFrame\n",
    "dfCanales.describe()"
   ]
  }
 ],
 "metadata": {
  "kernelspec": {
   "display_name": "Python 3",
   "language": "python",
   "name": "python3"
  },
  "language_info": {
   "codemirror_mode": {
    "name": "ipython",
    "version": 3
   },
   "file_extension": ".py",
   "mimetype": "text/x-python",
   "name": "python",
   "nbconvert_exporter": "python",
   "pygments_lexer": "ipython3",
   "version": "3.10.11"
  },
  "orig_nbformat": 4
 },
 "nbformat": 4,
 "nbformat_minor": 2
}
