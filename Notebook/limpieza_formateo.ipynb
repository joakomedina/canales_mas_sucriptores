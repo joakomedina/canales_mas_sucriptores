{
 "cells": [
  {
   "cell_type": "code",
   "execution_count": 1,
   "metadata": {},
   "outputs": [],
   "source": [
    "import pandas as pd"
   ]
  },
  {
   "cell_type": "code",
   "execution_count": null,
   "metadata": {},
   "outputs": [],
   "source": []
  },
  {
   "attachments": {},
   "cell_type": "markdown",
   "metadata": {},
   "source": [
    "## Inicio proceso\n",
    "Importar datos y crear dataframe\n",
    "1. Exploración del dataframe\n",
    "* cabecera\n",
    "* información del dataframe, como número de filas y columnas, tipo de datos, entre otros\n",
    "* obtener estadísticas básicas sobre las columnas númericas del dataframe\n",
    "\n",
    "### Pasos a seguir:\n",
    "\n",
    "2. Limpieza y transformación de datos, si es necesario. Esto puede incluir eliminar filas o columnas innecesarias, cambiar el tipo de datos de las columnas, llenar o eliminar valores faltantes, y más.\n",
    "3. Realizar operaciones de análisis de datos en el DataFrame del tipo:\n",
    "* Ordenar los canales por número de suscriptores de mayor a menor.\n",
    "* Encontrar el promedio, la mediana y la desviación estándar del número de suscriptores de los canales.\n",
    "* Filtrar los canales que tienen más de cierto número de suscriptores.\n",
    "* Agrupar los canales por país o categoría y encontrar el número promedio de suscriptores por grupo.\n",
    "* Encontrar los canales que tienen un crecimiento de suscriptores más rápido en un período de tiempo específico.\n"
   ]
  },
  {
   "cell_type": "code",
   "execution_count": 46,
   "metadata": {},
   "outputs": [],
   "source": [
    "# importar datos a través de archivo csv\n",
    "dfCanales = pd.read_csv('C:\\\\Users\\\\Joako\\\\Desktop\\\\canales_youtube_suscriptores\\\\Datos_original\\\\most_subscribed_youtube_channels.csv')"
   ]
  },
  {
   "cell_type": "code",
   "execution_count": 47,
   "metadata": {},
   "outputs": [
    {
     "data": {
      "text/html": [
       "<div>\n",
       "<style scoped>\n",
       "    .dataframe tbody tr th:only-of-type {\n",
       "        vertical-align: middle;\n",
       "    }\n",
       "\n",
       "    .dataframe tbody tr th {\n",
       "        vertical-align: top;\n",
       "    }\n",
       "\n",
       "    .dataframe thead th {\n",
       "        text-align: right;\n",
       "    }\n",
       "</style>\n",
       "<table border=\"1\" class=\"dataframe\">\n",
       "  <thead>\n",
       "    <tr style=\"text-align: right;\">\n",
       "      <th></th>\n",
       "      <th>rank</th>\n",
       "      <th>Youtuber</th>\n",
       "      <th>subscribers</th>\n",
       "      <th>video views</th>\n",
       "      <th>video count</th>\n",
       "      <th>category</th>\n",
       "      <th>started</th>\n",
       "    </tr>\n",
       "  </thead>\n",
       "  <tbody>\n",
       "    <tr>\n",
       "      <th>0</th>\n",
       "      <td>1</td>\n",
       "      <td>T-Series</td>\n",
       "      <td>222,000,000</td>\n",
       "      <td>198,459,090,822</td>\n",
       "      <td>17,317</td>\n",
       "      <td>Music</td>\n",
       "      <td>2006</td>\n",
       "    </tr>\n",
       "    <tr>\n",
       "      <th>1</th>\n",
       "      <td>2</td>\n",
       "      <td>YouTube Movies</td>\n",
       "      <td>154,000,000</td>\n",
       "      <td>0</td>\n",
       "      <td>0</td>\n",
       "      <td>Film &amp; Animation</td>\n",
       "      <td>2015</td>\n",
       "    </tr>\n",
       "    <tr>\n",
       "      <th>2</th>\n",
       "      <td>3</td>\n",
       "      <td>Cocomelon - Nursery Rhymes</td>\n",
       "      <td>140,000,000</td>\n",
       "      <td>135,481,339,848</td>\n",
       "      <td>786</td>\n",
       "      <td>Education</td>\n",
       "      <td>2006</td>\n",
       "    </tr>\n",
       "    <tr>\n",
       "      <th>3</th>\n",
       "      <td>4</td>\n",
       "      <td>SET India</td>\n",
       "      <td>139,000,000</td>\n",
       "      <td>125,764,252,686</td>\n",
       "      <td>91,271</td>\n",
       "      <td>Shows</td>\n",
       "      <td>2006</td>\n",
       "    </tr>\n",
       "    <tr>\n",
       "      <th>4</th>\n",
       "      <td>5</td>\n",
       "      <td>Music</td>\n",
       "      <td>116,000,000</td>\n",
       "      <td>0</td>\n",
       "      <td>0</td>\n",
       "      <td>NaN</td>\n",
       "      <td>2013</td>\n",
       "    </tr>\n",
       "  </tbody>\n",
       "</table>\n",
       "</div>"
      ],
      "text/plain": [
       "   rank                    Youtuber  subscribers      video views video count   \n",
       "0     1                    T-Series  222,000,000  198,459,090,822      17,317  \\\n",
       "1     2              YouTube Movies  154,000,000                0           0   \n",
       "2     3  Cocomelon - Nursery Rhymes  140,000,000  135,481,339,848         786   \n",
       "3     4                   SET India  139,000,000  125,764,252,686      91,271   \n",
       "4     5                       Music  116,000,000                0           0   \n",
       "\n",
       "           category  started  \n",
       "0             Music     2006  \n",
       "1  Film & Animation     2015  \n",
       "2         Education     2006  \n",
       "3             Shows     2006  \n",
       "4               NaN     2013  "
      ]
     },
     "execution_count": 47,
     "metadata": {},
     "output_type": "execute_result"
    }
   ],
   "source": [
    "# muestra las primeras filas del DataFrame\n",
    "dfCanales.head() "
   ]
  },
  {
   "cell_type": "code",
   "execution_count": 48,
   "metadata": {},
   "outputs": [
    {
     "name": "stdout",
     "output_type": "stream",
     "text": [
      "<class 'pandas.core.frame.DataFrame'>\n",
      "RangeIndex: 1000 entries, 0 to 999\n",
      "Data columns (total 7 columns):\n",
      " #   Column       Non-Null Count  Dtype \n",
      "---  ------       --------------  ----- \n",
      " 0   rank         1000 non-null   int64 \n",
      " 1   Youtuber     1000 non-null   object\n",
      " 2   subscribers  1000 non-null   object\n",
      " 3   video views  1000 non-null   object\n",
      " 4   video count  1000 non-null   object\n",
      " 5   category     973 non-null    object\n",
      " 6   started      1000 non-null   int64 \n",
      "dtypes: int64(2), object(5)\n",
      "memory usage: 54.8+ KB\n"
     ]
    }
   ],
   "source": [
    "# muestra información sobre el DataFrame, como número de filas y columnas, tipo de datos, entre otros\n",
    "dfCanales.info()"
   ]
  },
  {
   "cell_type": "code",
   "execution_count": 49,
   "metadata": {},
   "outputs": [
    {
     "data": {
      "text/html": [
       "<div>\n",
       "<style scoped>\n",
       "    .dataframe tbody tr th:only-of-type {\n",
       "        vertical-align: middle;\n",
       "    }\n",
       "\n",
       "    .dataframe tbody tr th {\n",
       "        vertical-align: top;\n",
       "    }\n",
       "\n",
       "    .dataframe thead th {\n",
       "        text-align: right;\n",
       "    }\n",
       "</style>\n",
       "<table border=\"1\" class=\"dataframe\">\n",
       "  <thead>\n",
       "    <tr style=\"text-align: right;\">\n",
       "      <th></th>\n",
       "      <th>rank</th>\n",
       "      <th>started</th>\n",
       "    </tr>\n",
       "  </thead>\n",
       "  <tbody>\n",
       "    <tr>\n",
       "      <th>count</th>\n",
       "      <td>1,000</td>\n",
       "      <td>1,000</td>\n",
       "    </tr>\n",
       "    <tr>\n",
       "      <th>mean</th>\n",
       "      <td>500</td>\n",
       "      <td>2,012</td>\n",
       "    </tr>\n",
       "    <tr>\n",
       "      <th>std</th>\n",
       "      <td>289</td>\n",
       "      <td>4</td>\n",
       "    </tr>\n",
       "    <tr>\n",
       "      <th>min</th>\n",
       "      <td>1</td>\n",
       "      <td>1,970</td>\n",
       "    </tr>\n",
       "    <tr>\n",
       "      <th>25%</th>\n",
       "      <td>251</td>\n",
       "      <td>2,010</td>\n",
       "    </tr>\n",
       "    <tr>\n",
       "      <th>50%</th>\n",
       "      <td>500</td>\n",
       "      <td>2,013</td>\n",
       "    </tr>\n",
       "    <tr>\n",
       "      <th>75%</th>\n",
       "      <td>750</td>\n",
       "      <td>2,015</td>\n",
       "    </tr>\n",
       "    <tr>\n",
       "      <th>max</th>\n",
       "      <td>1,000</td>\n",
       "      <td>2,021</td>\n",
       "    </tr>\n",
       "  </tbody>\n",
       "</table>\n",
       "</div>"
      ],
      "text/plain": [
       "       rank  started\n",
       "count 1,000    1,000\n",
       "mean    500    2,012\n",
       "std     289        4\n",
       "min       1    1,970\n",
       "25%     251    2,010\n",
       "50%     500    2,013\n",
       "75%     750    2,015\n",
       "max   1,000    2,021"
      ]
     },
     "execution_count": 49,
     "metadata": {},
     "output_type": "execute_result"
    }
   ],
   "source": [
    "# muestra estadísticas básicas sobre las columnas numéricas del DataFrame\n",
    "dfCanales.describe()"
   ]
  },
  {
   "attachments": {},
   "cell_type": "markdown",
   "metadata": {},
   "source": [
    "Insight: Tras la primera exploración de los datos. Noto que las columnas 'subscribers', 'video views',  'video count' no son de tipo entero si no que son object. Además las columnas 'video views',  'video count' tienen un espacio entre las cadenas. La columna 'started' parece ser la fecha de inicio del canal. La columna 'category' tiene 27 observaciones menos que el resto de las columnas que son 1000.\n",
    "\n",
    "Existen canales con varios suscriptores y 0 visualizaciones y 0 cuentas.\n",
    "\n",
    "Acciones:\n",
    "* Transformar las columnas 'subscribers', 'video views',  'video count' a tipo int\n",
    "* Eliminar espaciado entre nombres de columnas y sustituir por '_' \n",
    "* Columna 'started' cambiar a tipo date\n",
    "* Explorar las observaciones inferiores de 'category'\n",
    "* Explorar porque hay 'video views' 0 y 'video count' 0\n",
    "* hacer todos los nombres minúsculas"
   ]
  },
  {
   "cell_type": "code",
   "execution_count": 50,
   "metadata": {},
   "outputs": [],
   "source": [
    "# Eliminar espaciado entre nombres de columnas y sustituir por '_'\n",
    "dfCanales.columns = [col.replace(' ','_') for col in dfCanales.columns]"
   ]
  },
  {
   "cell_type": "code",
   "execution_count": 51,
   "metadata": {},
   "outputs": [],
   "source": [
    "# hacer todos los nombres minúsculas\n",
    "dfCanales.columns = dfCanales.columns.str.lower()"
   ]
  },
  {
   "cell_type": "code",
   "execution_count": 52,
   "metadata": {},
   "outputs": [],
   "source": [
    "# Convertir a formato date la columna 'started' formato año\n",
    "dfCanales['started'] = pd.to_datetime(dfCanales['started'], format='%Y')"
   ]
  },
  {
   "cell_type": "code",
   "execution_count": 53,
   "metadata": {},
   "outputs": [],
   "source": [
    "# Transformar las columnas 'subscribers', 'video views',  'video count' a tipo int\n",
    "# dfCanales[['subscribers', 'video_views', 'video_count']] = dfCanales[['subscribers', 'video_views', 'video_count']].str.replace(',','').astype('Int64') no funciona porque el tipo de las columnas es object y la función .srt.replace solo funciona para tipo string. la solución es el mismo código pero por individual\n",
    "dfCanales['subscribers'] = dfCanales['subscribers'].str.replace(',', '').astype('Int64')\n",
    "dfCanales['video_views'] = dfCanales['video_views'].str.replace(',', '').astype('Int64')\n",
    "dfCanales['video_count'] = dfCanales['video_count'].str.replace(',', '').astype('Int64')\n"
   ]
  },
  {
   "cell_type": "code",
   "execution_count": 54,
   "metadata": {},
   "outputs": [],
   "source": [
    "pd.options.display.float_format = '{:,.0f}'.format\n"
   ]
  },
  {
   "cell_type": "code",
   "execution_count": 55,
   "metadata": {},
   "outputs": [
    {
     "data": {
      "text/html": [
       "<div>\n",
       "<style scoped>\n",
       "    .dataframe tbody tr th:only-of-type {\n",
       "        vertical-align: middle;\n",
       "    }\n",
       "\n",
       "    .dataframe tbody tr th {\n",
       "        vertical-align: top;\n",
       "    }\n",
       "\n",
       "    .dataframe thead th {\n",
       "        text-align: right;\n",
       "    }\n",
       "</style>\n",
       "<table border=\"1\" class=\"dataframe\">\n",
       "  <thead>\n",
       "    <tr style=\"text-align: right;\">\n",
       "      <th></th>\n",
       "      <th>rank</th>\n",
       "      <th>youtuber</th>\n",
       "      <th>subscribers</th>\n",
       "      <th>video_views</th>\n",
       "      <th>video_count</th>\n",
       "      <th>category</th>\n",
       "      <th>started</th>\n",
       "    </tr>\n",
       "  </thead>\n",
       "  <tbody>\n",
       "    <tr>\n",
       "      <th>668</th>\n",
       "      <td>669</td>\n",
       "      <td>PlayHard</td>\n",
       "      <td>13500000</td>\n",
       "      <td>1926532344</td>\n",
       "      <td>2138</td>\n",
       "      <td>Gaming</td>\n",
       "      <td>2014-01-01</td>\n",
       "    </tr>\n",
       "    <tr>\n",
       "      <th>541</th>\n",
       "      <td>542</td>\n",
       "      <td>Mariale</td>\n",
       "      <td>14900000</td>\n",
       "      <td>2568493946</td>\n",
       "      <td>1918</td>\n",
       "      <td>Howto &amp; Style</td>\n",
       "      <td>2010-01-01</td>\n",
       "    </tr>\n",
       "    <tr>\n",
       "      <th>404</th>\n",
       "      <td>405</td>\n",
       "      <td>etvteluguindia</td>\n",
       "      <td>17300000</td>\n",
       "      <td>19465295267</td>\n",
       "      <td>111360</td>\n",
       "      <td>Entertainment</td>\n",
       "      <td>2010-01-01</td>\n",
       "    </tr>\n",
       "  </tbody>\n",
       "</table>\n",
       "</div>"
      ],
      "text/plain": [
       "     rank        youtuber  subscribers  video_views  video_count   \n",
       "668   669        PlayHard     13500000   1926532344         2138  \\\n",
       "541   542         Mariale     14900000   2568493946         1918   \n",
       "404   405  etvteluguindia     17300000  19465295267       111360   \n",
       "\n",
       "          category    started  \n",
       "668         Gaming 2014-01-01  \n",
       "541  Howto & Style 2010-01-01  \n",
       "404  Entertainment 2010-01-01  "
      ]
     },
     "execution_count": 55,
     "metadata": {},
     "output_type": "execute_result"
    }
   ],
   "source": [
    "dfCanales.sample(3)"
   ]
  }
 ],
 "metadata": {
  "kernelspec": {
   "display_name": "Python 3",
   "language": "python",
   "name": "python3"
  },
  "language_info": {
   "codemirror_mode": {
    "name": "ipython",
    "version": 3
   },
   "file_extension": ".py",
   "mimetype": "text/x-python",
   "name": "python",
   "nbconvert_exporter": "python",
   "pygments_lexer": "ipython3",
   "version": "3.10.11"
  },
  "orig_nbformat": 4
 },
 "nbformat": 4,
 "nbformat_minor": 2
}
