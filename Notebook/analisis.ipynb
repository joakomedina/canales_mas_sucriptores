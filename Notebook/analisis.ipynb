{
 "cells": [
  {
   "cell_type": "code",
   "execution_count": 4,
   "metadata": {},
   "outputs": [],
   "source": [
    "import pandas as pd\n",
    "import numpy as np\n",
    "import matplotlib\n",
    "import matplotlib.pyplot as plt"
   ]
  },
  {
   "attachments": {},
   "cell_type": "markdown",
   "metadata": {},
   "source": [
    "## Preguntas de investigación\n",
    "1. ¿Qué relación existe entre el número de suscriptores y la cantidad de visualizaciones del canal?\n",
    "    + ¿Muchos suscriptores se traduce en muchas visualizaciones?\n",
    "    + Sería muy interesante saber si los que visualizan el contenido son todos suscriptores.\n",
    "2. ¿La categoría del canal influye en la cantidad de suscriptores y las visualizaciones?\n",
    "3. ¿La fecha de inicio del canal determina la cantidad de suscriptores?\n",
    "\n",
    "4. Realizar operaciones de análisis de datos en el DataFrame del tipo:\n",
    "    + Ordenar los canales por número de suscriptores de mayor a menor.\n",
    "    + Encontrar el promedio, la mediana y la desviación estándar del número de suscriptores de los canales.\n",
    "    + Filtrar los canales que tienen más de cierto número de suscriptores.\n",
    "    + Agrupar los canales por país o categoría y encontrar el número promedio de suscriptores por grupo.\n",
    "    + Encontrar los canales que tienen un crecimiento de suscriptores más rápido en un período de tiempo específico. "
   ]
  }
 ],
 "metadata": {
  "kernelspec": {
   "display_name": "Python 3",
   "language": "python",
   "name": "python3"
  },
  "language_info": {
   "codemirror_mode": {
    "name": "ipython",
    "version": 3
   },
   "file_extension": ".py",
   "mimetype": "text/x-python",
   "name": "python",
   "nbconvert_exporter": "python",
   "pygments_lexer": "ipython3",
   "version": "3.10.11"
  },
  "orig_nbformat": 4
 },
 "nbformat": 4,
 "nbformat_minor": 2
}
